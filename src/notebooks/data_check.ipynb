{
 "metadata": {
  "language_info": {
   "codemirror_mode": {
    "name": "ipython",
    "version": 3
   },
   "file_extension": ".py",
   "mimetype": "text/x-python",
   "name": "python",
   "nbconvert_exporter": "python",
   "pygments_lexer": "ipython3",
   "version": "3.7.7-final"
  },
  "orig_nbformat": 2,
  "kernelspec": {
   "name": "python3",
   "display_name": "Python 3"
  }
 },
 "nbformat": 4,
 "nbformat_minor": 2,
 "cells": [
  {
   "cell_type": "code",
   "execution_count": 1,
   "metadata": {},
   "outputs": [],
   "source": [
    "import numpy as np\n",
    "import os"
   ]
  },
  {
   "cell_type": "code",
   "execution_count": 2,
   "metadata": {},
   "outputs": [
    {
     "output_type": "stream",
     "name": "stdout",
     "text": [
      "/home/kawashima/workspace/deep/kmnist-classification/src/notebooks\n"
     ]
    }
   ],
   "source": [
    "print(os.getcwd())"
   ]
  },
  {
   "cell_type": "code",
   "execution_count": 4,
   "metadata": {},
   "outputs": [],
   "source": [
    "imgs_path = \"../../dataset/kmnist/kmnist-train-imgs.npz\"\n",
    "labels_path = \"../../dataset/kmnist/kmnist-train-labels.npz\"\n",
    "imgs = np.load(imgs_path)[\"arr_0\"]\n",
    "labels = np.load(labels_path)[\"arr_0\"]"
   ]
  },
  {
   "cell_type": "code",
   "execution_count": 5,
   "metadata": {},
   "outputs": [
    {
     "output_type": "stream",
     "name": "stdout",
     "text": [
      "60000\n[8 7 0 ... 0 4 9]\n"
     ]
    }
   ],
   "source": [
    "print(len(imgs))\n",
    "print(labels)"
   ]
  },
  {
   "cell_type": "code",
   "execution_count": 6,
   "metadata": {},
   "outputs": [
    {
     "output_type": "stream",
     "name": "stdout",
     "text": [
      "[[  0   0   0   0   0   0   0   0   0   0   0 118 255 255 124   1   0   0\n    0   0   0   0   0   0   0   0   0   0]\n [  0   0   0   0   0   0   0   0   0   0  36 238 255 146   2   0   0   0\n    0   0   0   0   0   0   0   0   0   0]\n [  0   0   0   0   0   0   0   0   0  12 203 255 220  14   0   0   0  11\n  132  95 187  95   0   0   0   0   0   0]\n [  0   0   0   0   0   0   0   0   0 149 255 251  66   0   0   0   7 168\n  136  10 223 245  67   0   0   0   0   0]\n [  0   0   0   0   0   0   0   0  51 247 255 156   1   0   0   0 130 201\n    9   0 158 255 170   0   0   0   0   0]\n [  0   0   0   0   0   0   0  11 212 255 226  22   0   0   0  79 240  38\n    0   0 143 255 197   0   0   0   0   0]\n [  0   0   0   0   0   0   0 148 255 255 107   0   0   0  33 237 121   0\n    0   0 144 255 222   0   0   0   0   0]\n [  0   0   0   0   0   0   0 205 255 178   3   0   0   1 179 208   5   0\n    0   0 126 255 166   0   0   0   0   0]\n [  0   0   0   0   0   0   7 245 255  76   0   0   0 124 254 108   0   0\n    0   0  91 255 156   0   0   0   0   0]\n [  0   0   0   0   0   0  23 255 239  12   0   0  62 250 225   8   0   0\n    0   0  78 255 197   0   0   0   0   0]\n [  0   0   0   0   0   0  48 255 192   0   0  16 207 252  84   0   0   0\n    0   0  81 255 178   0   0   0   0   0]\n [  0   0   0   0   0   0  53 255 148   0   0 133 255 148   0   0   0   0\n    0   0  73 255 157   0   0   0   0   0]\n [  0   0   0   0   0   0  95 255 143   0 105 252 220  17   0   0   0   0\n    0   0  79 255  96   0   0   0   0   0]\n [  0   0   0   0   0   0 149 255 121  58 246 254  79   0   0   0   0   7\n   53   1 102 255 100   0   0   0   0   0]\n [  0   0   0   0   0   0 202 255 213 233 255 186   2   0   0   0   0   0\n   10  47 132 255  97   0   0   0   0   0]\n [  0   0   0   0   0  16 246 255 255 255 230  19   0   0   0   0   0   0\n    0   0 144 255  95   0   0   0   0   0]\n [  0   0   0   0   0  89 255 255 255 243  71   0   0   0   0   0   0   0\n    0   0 157 255 105   0   0   0   0   0]\n [  0   0   0   0   0 192 255 255 254  54   0   0   0   0   0   0   0   0\n    0   0 189 255 104   0   0   0   0   0]\n [  0   0   0   0  45 252 255 255 252  28   0   0   0   0   0   0   0   0\n    0   3 233 255 116   0   0   0   0   0]\n [  0   0   0   0 161 255 255 255 251  23   0   0   0   0   0   0   0   0\n    0   1 223 255 178   7   0   0   0   0]\n [  0   0   0  56 252 255 255 255 249  17   0   0   0   0   0   0   0   0\n    0   0 159 255 255 181  12   0   0   0]\n [  0   0   0 180 255 255 255 255 250  18   0   0   0   0   0   0   0   0\n    0   0  39 245 255 255 177   0   0   0]\n [  0   0  15 252 255 255 255 255 237   5   0   0   0   0   0   0   0   0\n    0   0   0  97 253 255 231   0   0   0]\n [  0   0  17 254 243 224 255 255 239   6   0   0   0   0   0   0   0   0\n    0   0   0  24 241 255 213   0   0   0]\n [  0   0   5 150  70 103 255 255 168   0   0   0   0   0   0   0   0   0\n    0   0  35 222 255 174  21   0   0   0]\n [  0   0   0   0   0  65 255 254  62   0   0   0   0   0   0   0   0   0\n    0  59 227 246  93   2   0   0   0   0]\n [  0   0   0   0   0  30 253 186   2   0   0   0   0   0   0   0   0   0\n   24 240 240  76   0   0   0   0   0   0]\n [  0   0   0   0   0   8 144  26   0   0   0   0   0   0   0   0   0   0\n  122 255  90   0   0   0   0   0   0   0]]\n"
     ]
    }
   ],
   "source": [
    "print(type(imgs[0]))"
   ]
  },
  {
   "cell_type": "code",
   "execution_count": null,
   "metadata": {},
   "outputs": [],
   "source": []
  }
 ]
}